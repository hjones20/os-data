{
 "cells": [
  {
   "cell_type": "markdown",
   "metadata": {},
   "source": [
    "# Working with the Census API\n",
    "\n",
    "### PDF Guide\n",
    "- https://www.census.gov/content/dam/Census/library/publications/2020/acs/acs_api_handbook_2020_ch02.pdf\n",
    "\n",
    "You can also access and download data from here: https://data.census.gov/cedsci/tableq=United%20States&tid=PEPPOP2019.PEPANNRES&hidePreview=false\n",
    "\n",
    "### Available Datasets\n",
    "- *ACS 1-year estimates (2012–2018)* For areas with populations 65,000+, most frequently updated but with the lowest “resolution” since it excludes areas with low population and has the smallest sample size\n",
    "- *ACS 1-year supplemental estimates (2014–2017)* Supplemental dataset that focuses on lower population areas of 20,000+\n",
    "- *ACS 3-year estimates (2010–2012 to 2011–2013)* For areas with populations 20,000+, very much the middle ground between the 1 and 5 years. Currently discounted by the Census Bureau but old versions can still be accessed.\n",
    "- *ACS 5-year estimates (2005–2009 to 2014–2018)* Data for all areas, highest resolution and largest sample size but the least current\n",
    "- *Decennial Census 2010* Counts every resident of the US, updated every 10 years.\n",
    "\n",
    "**Discontinued Datasets:** ACS 3-year estimates\n",
    "\n",
    "### ACS: Single vs. Multi-Year Estimates\n",
    "- Single-year and multiyear estimates from the ACS are all “period” estimates derived from a sample collected over a period of time, as opposed to “point-in-time” estimates such as those from past decennial censuses. \n",
    "- There are two sets of numbers—both 1-year estimates and 5-year estimates—available for geographic areas with at least 65,000 people, such as the state of Virginia. Less populous areas, such as Bath County in Virginia’s Shenandoah Valley, receive only 5-year estimates.\n",
    "- Multiyear estimates should be labeled to indicate clearly the full period of time (e.g., “The child poverty rate in 2014–2018 was X percent.”). They do not describe any specific day, month, or year within that time period.\n",
    "- The primary advantage of using multiyear estimates is the increased statistical reliability of the data compared with that of single-year estimates\n",
    "\n",
    "**Reference on which dataset to use and when:**\n",
    "- https://www.census.gov/content/dam/Census/library/publications/2020/acs/acs_general_handbook_2020_ch03.pdf\n"
   ]
  },
  {
   "cell_type": "code",
   "execution_count": 4,
   "metadata": {},
   "outputs": [],
   "source": [
    "import requests\n",
    "import pandas as pd"
   ]
  },
  {
   "cell_type": "markdown",
   "metadata": {},
   "source": [
    "### Accessing Decennial Census Data\n",
    "- 2010 is the latest decennial dataset available and will be useful for calculating % changes on total counts when 2020 is released\n",
    "- 2020 Decennial dataset not released until April 1st, 2021\n",
    "- \"dec/sf1\" stands for decennial, summary file 1, which provides the most detailed information available from the 2010 Census about a community's entire population, including cross-tabulations of age, sex, households, families, relationship to householder, housing units, detailed race and Hispanic or Latino origin groups, and group quarters\n",
    "- By contrast, \"dec/sf2\" adds a layer of detail — making information, such as age, relationship and homeownership available for specific race and ethnic groups within a community\n",
    "\n",
    "**References:**\n",
    "- https://www.census.gov/data/developers/data-sets/decennial-census.html\n",
    "- https://www.census.gov/programs-surveys/decennial-census/guidance/2010.html"
   ]
  },
  {
   "cell_type": "code",
   "execution_count": 5,
   "metadata": {},
   "outputs": [
    {
     "name": "stdout",
     "output_type": "stream",
     "text": [
      "                    name  median_age  avg_family_size state\n",
      "0                Alabama        37.9             3.02    01\n",
      "1                 Alaska        33.8             3.21    02\n",
      "2                Arizona        35.9             3.19    04\n",
      "3               Arkansas        37.4             3.00    05\n",
      "4             California        35.2             3.45    06\n",
      "5              Louisiana        35.8             3.10    22\n",
      "6               Kentucky        38.1             2.98    21\n",
      "7               Colorado        36.1             3.08    08\n",
      "8            Connecticut        40.0             3.08    09\n",
      "9               Delaware        38.8             3.06    10\n",
      "10  District of Columbia        33.8             3.01    11\n",
      "11               Florida        40.7             3.01    12\n",
      "12               Georgia        35.3             3.17    13\n",
      "13                Hawaii        38.6             3.42    15\n",
      "14                 Idaho        34.6             3.16    16\n",
      "15              Illinois        36.6             3.20    17\n",
      "16               Indiana        37.0             3.05    18\n",
      "17                  Iowa        38.1             2.97    19\n",
      "18                Kansas        36.0             3.06    20\n",
      "19                 Maine        42.7             2.83    23\n",
      "20              Maryland        38.0             3.15    24\n",
      "21         Massachusetts        39.1             3.08    25\n",
      "22              Michigan        38.9             3.05    26\n",
      "23             Minnesota        37.4             3.05    27\n",
      "24           Mississippi        36.0             3.11    28\n",
      "25              Missouri        37.9             3.00    29\n",
      "26               Montana        39.8             2.91    30\n",
      "27              Nebraska        36.2             3.04    31\n",
      "28                Nevada        36.3             3.20    32\n",
      "29         New Hampshire        41.1             2.96    33\n",
      "30            New Jersey        39.0             3.22    34\n",
      "31            New Mexico        36.7             3.13    35\n",
      "32              New York        38.0             3.20    36\n",
      "33        North Carolina        37.4             3.01    37\n",
      "34          North Dakota        37.0             2.91    38\n",
      "35                  Ohio        38.8             3.01    39\n",
      "36              Oklahoma        36.2             3.04    40\n",
      "37                Oregon        38.4             3.00    41\n",
      "38          Pennsylvania        40.1             3.02    42\n",
      "39          Rhode Island        39.4             3.04    44\n",
      "40        South Carolina        37.9             3.01    45\n",
      "41          South Dakota        36.9             3.00    46\n",
      "42             Tennessee        38.0             3.01    47\n",
      "43                 Texas        33.6             3.31    48\n",
      "44                  Utah        29.2             3.56    49\n",
      "45               Vermont        41.5             2.85    50\n",
      "46              Virginia        37.5             3.06    51\n",
      "47            Washington        37.3             3.06    53\n",
      "48         West Virginia        41.3             2.88    54\n",
      "49             Wisconsin        38.5             2.99    55\n",
      "50               Wyoming        36.8             2.96    56\n",
      "51           Puerto Rico        36.9             3.17    72\n"
     ]
    }
   ],
   "source": [
    "# Build base URL\n",
    "host = \"https://api.census.gov/data\"\n",
    "year = \"2010\"\n",
    "dataset = \"dec/sf1\"\n",
    "base_url = \"/\".join([host, year, dataset])\n",
    "\n",
    "# Specify Census variables and other predicates\n",
    "# P013001 = Median Age, P037001 = Average Family Size\n",
    "get_vars = [\"NAME\", \"P013001\", \"P037001\"]\n",
    "predicates = {}\n",
    "predicates[\"get\"] = \",\".join(get_vars)\n",
    "predicates[\"for\"] = \"state:*\"\n",
    "\n",
    "# Execute the request, examine text of response object\n",
    "r = requests.get(base_url, params=predicates)\n",
    "\n",
    "# Construct the data frame\n",
    "col_names = ['name', 'median_age', 'avg_family_size', 'state']\n",
    "# Skip the first item, which contains the old column names\n",
    "states = pd.DataFrame(columns = col_names, data = r.json()[1:])\n",
    "\n",
    "# Convert each column with numeric data to an appropriate type\n",
    "states[\"median_age\"] = states[\"median_age\"].astype(float)\n",
    "states[\"avg_family_size\"] = states[\"avg_family_size\"].astype(float)\n",
    "\n",
    "print(states)"
   ]
  },
  {
   "cell_type": "code",
   "execution_count": null,
   "metadata": {},
   "outputs": [],
   "source": []
  }
 ],
 "metadata": {
  "kernelspec": {
   "display_name": "Python 3.6",
   "language": "python",
   "name": "p36workshop"
  },
  "language_info": {
   "codemirror_mode": {
    "name": "ipython",
    "version": 3
   },
   "file_extension": ".py",
   "mimetype": "text/x-python",
   "name": "python",
   "nbconvert_exporter": "python",
   "pygments_lexer": "ipython3",
   "version": "3.6.10"
  }
 },
 "nbformat": 4,
 "nbformat_minor": 2
}
